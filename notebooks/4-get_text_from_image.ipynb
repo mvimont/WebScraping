{
 "cells": [
  {
   "cell_type": "code",
   "execution_count": 1,
   "metadata": {},
   "outputs": [],
   "source": [
    "import re\n",
    "from textwrap import indent\n",
    "from urllib.request import urlopen\n",
    "from gazpacho import get, Soup\n",
    "from PIL import Image # pip install pillow\n",
    "import pytesseract # pip install pytesseract\n",
    "# brew install tesseract"
   ]
  },
  {
   "cell_type": "code",
   "execution_count": 2,
   "metadata": {},
   "outputs": [],
   "source": [
    "base = 'https://scrape.world'\n",
    "url = base + '/fish'\n",
    "html = get(url)\n",
    "soup = Soup(html)"
   ]
  },
  {
   "cell_type": "code",
   "execution_count": 3,
   "metadata": {},
   "outputs": [
    {
     "data": {
      "text/plain": [
       "'/static/fish_1.png'"
      ]
     },
     "execution_count": 3,
     "metadata": {},
     "output_type": "execute_result"
    }
   ],
   "source": [
    "soup.find(\"img\")[0].attrs[\"src\"]"
   ]
  },
  {
   "cell_type": "code",
   "execution_count": 4,
   "metadata": {},
   "outputs": [],
   "source": [
    "imgs = soup.find('img')[1:]\n",
    "paths = [i.attrs['src'] for i in imgs]"
   ]
  },
  {
   "cell_type": "code",
   "execution_count": 5,
   "metadata": {},
   "outputs": [
    {
     "data": {
      "text/plain": [
       "['/static/fish_2.png', '/static/fish_3.png', '/static/fish_4.png']"
      ]
     },
     "execution_count": 5,
     "metadata": {},
     "output_type": "execute_result"
    }
   ],
   "source": [
    "paths"
   ]
  },
  {
   "cell_type": "code",
   "execution_count": 6,
   "metadata": {},
   "outputs": [],
   "source": [
    "images = []\n",
    "for path in paths:\n",
    "    url = base + path\n",
    "    im = Image.open(urlopen(url))\n",
    "    images.append(im)"
   ]
  },
  {
   "cell_type": "code",
   "execution_count": 7,
   "metadata": {},
   "outputs": [],
   "source": [
    "text = ''\n",
    "for image in images:\n",
    "    i2t = pytesseract.image_to_string(image)\n",
    "    text += i2t"
   ]
  },
  {
   "cell_type": "code",
   "execution_count": 8,
   "metadata": {},
   "outputs": [
    {
     "data": {
      "text/plain": [
       "'Preface\\n\\nSamuel Zemurray, who led the United Fruit Company for\\nroughly twenty-five years, from the early 1930s to the\\nmid-’50s, was an emblematic figure of the American\\nCentury—those decades that saw the United States grow\\nfrom a regional power into an empire. In Sam the Banana\\nMan, as Zemurray was known to friends and enemies alike,\\nthe story of the age is collapsed to the scale of a single life:\\nthe ascent from humble origins, the promise and ambition,\\nthe sudden, dazzling, disorienting wealth, the corruption,\\nbrutality, propaganda, wars, and overreach—and the\\ngrinding late-day melancholy.\\n\\nWhen he arrived in America in 1891 at age fourteen,\\nZemurray was tall, gangly, and penniless. When he died in\\nthe grandest house in New Orleans sixty-nine years later,\\nhe was among the richest, most powerful men in the world.\\nIn between, he worked as a fruit peddler, a banana hauler, a\\ndockside hustler, and the owner of plantations on the\\nCentral American isthmus. He battled and conquered\\nUnited F'"
      ]
     },
     "execution_count": 8,
     "metadata": {},
     "output_type": "execute_result"
    }
   ],
   "source": [
    "text[:1000]"
   ]
  },
  {
   "cell_type": "code",
   "execution_count": 9,
   "metadata": {},
   "outputs": [],
   "source": [
    "pattern = re.compile('(?<![.!?\\’\\”\\'])\\n')\n",
    "text = re.sub(pattern, ' ', text)\n",
    "text = indent(text, '\\t')"
   ]
  },
  {
   "cell_type": "code",
   "execution_count": 10,
   "metadata": {},
   "outputs": [
    {
     "name": "stdout",
     "output_type": "stream",
     "text": [
      "\tPreface  Samuel Zemurray, who led the United Fruit Company for roughly twenty-five years, from the early 1930s to the mid-’50s, was an emblematic figure of the American Century—those decades that saw the United States grow from a regional power into an empire. In Sam the Banana Man, as Zemurray was known to friends and enemies alike, the story of the age is collapsed to the scale of a single life: the ascent from humble origins, the promise and ambition, the sudden, dazzling, disorienting wealth, the corruption, brutality, propaganda, wars, and overreach—and the grinding late-day melancholy.\n",
      "\t When he arrived in America in 1891 at age fourteen, Zemurray was tall, gangly, and penniless. When he died in the grandest house in New Orleans sixty-nine years later, he was among the richest, most powerful men in the world.\n",
      "\tIn between, he worked as a fruit peddler, a banana hauler, a dockside hustler, and the owner of plantations on the Central American isthmus. He battled and conquered United Fruit, which was one of the first truly global corporations. United Fruit, in its day, was as ubiquitous as Google and as feared as Halliburton. More than a business, it was the spirit of the nation abroad, akin to the Dutch East India Company, its policies backed by the threat of U.S.\n",
      "\tgunboats. As the president of United Fruit, Zemurray became the most important man in Central America—he could change the course of history with a phone call—a symbol of the best and worst of the United States: proof that America is the land of opportunity, but also a classic example of the Ugly American, the corporate pirate who treats foreign nations as the backdrop for his adventures. In South America, when people shouted “Yankee, go home!”\n",
      "\tit was men like Samuel Zemurray they had in mind.\n",
      "\t * OK  I first learned about Zemurray as a sophomore at Tulane University. The Banana Man had been a generous donor to Tulane, and many of the buildings on campus are named for him or members of his family; the university president lives in the mansion on St. Charles Avenue where Zemutray spent some of his best years. I was transfixed by the story the moment I heard it in a seminar taught by Joseph Cohen, a relation to me in spirit alone. Unlike lectures in other classes, this was an epic, gaudy in character and incident, filled with mercenary soldiers and dirty wars, financial battles and the sort of political shenanigans familiar from the smoky back rooms of my hometown, Chicago.\n",
      "\tZemurray’s life is a parable of the American dream—not history as recorded in textbooks, but the authentic cask- strength version, a subterranean saga of kickbacks, overthrows, and secret deals: the world as it really works.\n",
      "\tThis story can shock and infuriate us, and it does. But I found it invigorating, too. It told me that the life of the nation was written not only by speech-making grandees in funny hats but also by street-corner boys, immigrant strivers, crazed and driven, some with one good idea, some with thousands, willing to go to the ends of the earth to make their vision real. It meant anyone could write a chapter in that book, be part of the story, vanish into the jungle and reemerge as a figure of lore. Of course, you would not make the mistakes Zemurray made. You would harm no one, and disturb nothing, and never pay off, and never kick back, and never compromise or lose your bearings. You would do it in a new sin-free way, win-win, which of course is also part of the American character, perhaps the most defining part: the notion that, if we were only given one more chance, we could finally get it right.\n",
      "\t It’s what people mean when they speak of American exceptionalism: unlike the Europeans, we do not yet know you can’t be both powerful and righteous. So we set out again and again, convinced that this time we’ll avoid the mistakes of the previous generations. It’s this kind of confidence that gives a people the strength to rule abroad; \n"
     ]
    }
   ],
   "source": [
    "print(text)"
   ]
  }
 ],
 "metadata": {
  "kernelspec": {
   "display_name": "AWS.venv",
   "language": "python",
   "name": "aws.venv"
  },
  "language_info": {
   "codemirror_mode": {
    "name": "ipython",
    "version": 3
   },
   "file_extension": ".py",
   "mimetype": "text/x-python",
   "name": "python",
   "nbconvert_exporter": "python",
   "pygments_lexer": "ipython3",
   "version": "3.9.11"
  }
 },
 "nbformat": 4,
 "nbformat_minor": 2
}
