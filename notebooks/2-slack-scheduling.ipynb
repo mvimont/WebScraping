{
 "cells": [
  {
   "cell_type": "code",
   "execution_count": 1,
   "metadata": {},
   "outputs": [],
   "source": [
    "from gazpacho import get, Soup\n",
    "from slack_sdk import WebClient # pip install slack_sdk\n",
    "from slack_sdk.errors import SlackApiError\n",
    "from dotenv import load_dotenv, find_dotenv # pip install python-dotenv\n",
    "import os"
   ]
  },
  {
   "cell_type": "markdown",
   "metadata": {},
   "source": [
    "### Create a Slack app\n",
    "\n",
    "- To get started, visit [api.slack.com](https://api.slack.com/).\n",
    "  1. Click on \"Your Apps\" in the header\n",
    "  2. Click on \"Create An App\" > \"From scratch\"\n",
    "  3. Type in your app name... and add to the desired \"workspace\"\n",
    "\n",
    "### Give your app permissions\n",
    "\n",
    "[Scopes](https://api.slack.com/scopes) give your app permission to do things (for example, post messages) in your development workspace.\n",
    "\n",
    "- Navigate to **OAuth & Permissions** on the sidebar to add scopes to your app\n",
    "- Scroll down to the **Bot Token Scopes** section and click **Add an OAuth Scope**.\n",
    "\n",
    "For now, we'll only use one scope.\n",
    "\n",
    "- Add the [`chat:write` scope](https://api.slack.com/scopes/chat:write) to grant your app the permission to post messages in channels it's a member of.\n",
    "- Add the [`im:write` scope](https://api.slack.com/scopes/im:write) to grant your app the permission to post messages in DMs.\n",
    "\n",
    "🎉 You should briefly see a success banner.\n",
    "\n",
    "### Install the app in your workspace\n",
    "\n",
    "- Scroll up to the top of the **OAuth & Permissions** pages and click the green \"Install App to Workspace\" button.\n",
    "\n",
    "Next you'll need to authorize the app for the Bot User permissions.\n",
    "\n",
    "- Click the \"Allow\" button.\n",
    "\n",
    "🏁 Finally copy and save your bot token. You'll need this to communicate with Slack's Platform.\n",
    "\n",
    "### Invite to channel\n",
    "\n",
    "⚠️ @ mention the bot name in the desired channel before trying to post with it!"
   ]
  },
  {
   "cell_type": "code",
   "execution_count": 2,
   "metadata": {},
   "outputs": [],
   "source": [
    "load_dotenv(find_dotenv())\n",
    "\n",
    "SLACK_API_TOKEN = os.environ.get(\"SLACK_API_TOKEN\")\n",
    "client = WebClient(token=SLACK_API_TOKEN)\n",
    "channel = '#web-scraping'"
   ]
  },
  {
   "cell_type": "code",
   "execution_count": 3,
   "metadata": {},
   "outputs": [],
   "source": [
    "try:\n",
    "    response = client.chat_postMessage(channel=channel, text=\"Hello world!\")\n",
    "    assert response[\"message\"][\"text\"] == \"Hello world!\"\n",
    "except SlackApiError as e:\n",
    "    # You will get a SlackApiError if \"ok\" is False\n",
    "    assert e.response[\"ok\"] is False\n",
    "    assert e.response[\"error\"]  # str like 'invalid_auth', 'channel_not_found'\n",
    "    print(f\"Got an error: {e.response['error']}\")"
   ]
  },
  {
   "cell_type": "code",
   "execution_count": 4,
   "metadata": {},
   "outputs": [],
   "source": [
    "def parse(book):\n",
    "    name = book.find('h4').text\n",
    "    price = float(book.find('p').text[1:].split(' ')[0])\n",
    "    return name, price\n",
    "\n",
    "def fetch_sale():\n",
    "    url = 'https://scrape.world/books'\n",
    "    html = get(url)\n",
    "    soup = Soup(html)\n",
    "    books_raw = soup.find('div', {'class': 'book-'})\n",
    "    books = [parse(book) for book in books_raw]\n",
    "    on_sale = [name for name, price in books if price == 0.99]\n",
    "    return '\\n'.join(on_sale)"
   ]
  },
  {
   "cell_type": "code",
   "execution_count": 5,
   "metadata": {},
   "outputs": [
    {
     "data": {
      "text/plain": [
       "'Early Riser'"
      ]
     },
     "execution_count": 5,
     "metadata": {},
     "output_type": "execute_result"
    }
   ],
   "source": [
    "fetch_sale()"
   ]
  },
  {
   "cell_type": "code",
   "execution_count": 6,
   "metadata": {},
   "outputs": [],
   "source": [
    "def post_to_channel():\n",
    "    on_sale = fetch_sale()\n",
    "    if on_sale:\n",
    "        text = f'These books are on sale:\\n{on_sale}\\n\\nBuy them now!'\n",
    "    else:\n",
    "        text = 'Nothing on sale :('\n",
    "    try:\n",
    "        response = client.chat_postMessage(channel='#web-scraping', text=text)\n",
    "    except SlackApiError as e:\n",
    "        assert e.response[\"ok\"] is False\n",
    "        assert e.response[\"error\"]  # str like 'invalid_auth', 'channel_not_found'\n",
    "        print(f\"Got an error: {e.response['error']}\")"
   ]
  },
  {
   "cell_type": "code",
   "execution_count": 7,
   "metadata": {},
   "outputs": [],
   "source": [
    "post_to_channel()"
   ]
  },
  {
   "cell_type": "code",
   "execution_count": null,
   "metadata": {},
   "outputs": [],
   "source": [
    "import schedule # pip install schedule"
   ]
  },
  {
   "cell_type": "code",
   "execution_count": null,
   "metadata": {},
   "outputs": [],
   "source": [
    "while True:\n",
    "    schedule.every(60).seconds.do(post_to_channel)\n",
    "    # schedule.every().day.at('8:00').do(post_to_channel)"
   ]
  }
 ],
 "metadata": {
  "kernelspec": {
   "display_name": "AWS.venv",
   "language": "python",
   "name": "aws.venv"
  },
  "language_info": {
   "codemirror_mode": {
    "name": "ipython",
    "version": 3
   },
   "file_extension": ".py",
   "mimetype": "text/x-python",
   "name": "python",
   "nbconvert_exporter": "python",
   "pygments_lexer": "ipython3",
   "version": "3.9.11"
  }
 },
 "nbformat": 4,
 "nbformat_minor": 2
}
