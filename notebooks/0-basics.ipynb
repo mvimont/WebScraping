{
 "cells": [
  {
   "cell_type": "code",
   "execution_count": 1,
   "metadata": {},
   "outputs": [],
   "source": [
    "\"\"\"\n",
    "gazpacho is a web scraping library, acts as an interface on top of BeautifulSoup + requests. Combines\n",
    "HTML parsing plus HTTP requests,  and supports partial string matching.\n",
    "\n",
    "https://pypi.org/project/gazpacho/\n",
    "\"\"\"\n",
    "from gazpacho import get, Soup"
   ]
  },
  {
   "cell_type": "code",
   "execution_count": 2,
   "metadata": {},
   "outputs": [],
   "source": [
    "\"\"\"\n",
    "scrape.world is a tutorial website drafted by the class teacher/gazpacho creator\n",
    "\"\"\"\n",
    "url = \"https://scrape.world/soup\"\n",
    "# Retrieve the raw HTML from tutorial site\n",
    "# Essentially requests.get(url)\n",
    "html = get(url)\n",
    "# Create a Soup object from the HTML\n",
    "soup = Soup(html)"
   ]
  },
  {
   "cell_type": "code",
   "execution_count": 5,
   "metadata": {},
   "outputs": [],
   "source": [
    "\"\"\"\n",
    "Here, we are attempting to retrieve all links associate with figures of speech\n",
    "Inspection of the site shows that all figures of speech links exist in the div\n",
    "with CSS class 'section-speech'\n",
    "\"\"\"\n",
    "figures_of_speech = soup.find('div', {'class': 'section-speech'})"
   ]
  },
  {
   "cell_type": "code",
   "execution_count": 12,
   "metadata": {},
   "outputs": [
    {
     "data": {
      "text/plain": [
       "[<a href=\"https://en.wikipedia.org/wiki/Alphabet_soup_(linguistics)\" title=\"Alphabet soup (linguistics)\">Alphabet soup</a>,\n",
       " <a href=\"https://en.wikipedia.org/wiki/Alphabet\" title=\"Alphabet\">alphabet</a>,\n",
       " <a href=\"https://en.wiktionary.org/wiki/from_soup_to_nuts\" class=\"extiw\" title=\"wikt:from soup to nuts\">From soup to nuts</a>,\n",
       " <a href=\"#cite_note-19\">[19]</a>,\n",
       " <a href=\"https://en.wikipedia.org/wiki/Abiogenesis\" title=\"Abiogenesis\">Primordial soup</a>,\n",
       " <a href=\"https://en.wikipedia.org/wiki/Soup_kitchen\" title=\"Soup kitchen\">Soup kitchen</a>,\n",
       " <a href=\"https://en.wikipedia.org/wiki/Stone_soup\" class=\"mw-redirect\" title=\"Stone soup\">Stone soup</a>,\n",
       " <a href=\"https://en.wikipedia.org/wiki/Souperism\" title=\"Souperism\">Souperism</a>,\n",
       " <a href=\"https://en.wikipedia.org/wiki/Great_Famine_(Ireland)\" title=\"Great Famine (Ireland)\">Irish Great\n",
       "                     Famine</a>,\n",
       " <a href=\"https://en.wikipedia.org/wiki/Tag_soup\" title=\"Tag soup\">Tag soup</a>,\n",
       " <a href=\"https://en.wikipedia.org/wiki/HTML\" title=\"HTML\">HTML</a>]"
      ]
     },
     "execution_count": 12,
     "metadata": {},
     "output_type": "execute_result"
    }
   ],
   "source": [
    "\"\"\"\n",
    "We return all a tags as a list\n",
    "\n",
    "NOTE if returned data is only one element, returns as a single tag\n",
    "otherwise, returns as list\n",
    "\"\"\"\n",
    "\n",
    "fos_link_tags = figures_of_speech.find('a')\n",
    "fos_link_tags"
   ]
  },
  {
   "cell_type": "code",
   "execution_count": 9,
   "metadata": {},
   "outputs": [
    {
     "data": {
      "text/plain": [
       "'https://en.wikipedia.org/wiki/Alphabet_soup_(linguistics)'"
      ]
     },
     "execution_count": 9,
     "metadata": {},
     "output_type": "execute_result"
    }
   ],
   "source": [
    "\"\"\"\n",
    "We can retrieve specific subtags within each element via grabbing its attributes\n",
    "So for example, the first element's link can be retrived by the below\n",
    "\"\"\"\n",
    "\n",
    "fos_link_tags[0].attrs[\"href\"]"
   ]
  },
  {
   "cell_type": "code",
   "execution_count": 11,
   "metadata": {},
   "outputs": [
    {
     "data": {
      "text/plain": [
       "['https://en.wikipedia.org/wiki/Alphabet_soup_(linguistics)',\n",
       " 'https://en.wikipedia.org/wiki/Alphabet',\n",
       " 'https://en.wiktionary.org/wiki/from_soup_to_nuts',\n",
       " '#cite_note-19',\n",
       " 'https://en.wikipedia.org/wiki/Abiogenesis',\n",
       " 'https://en.wikipedia.org/wiki/Soup_kitchen',\n",
       " 'https://en.wikipedia.org/wiki/Stone_soup',\n",
       " 'https://en.wikipedia.org/wiki/Souperism',\n",
       " 'https://en.wikipedia.org/wiki/Great_Famine_(Ireland)',\n",
       " 'https://en.wikipedia.org/wiki/Tag_soup',\n",
       " 'https://en.wikipedia.org/wiki/HTML']"
      ]
     },
     "execution_count": 11,
     "metadata": {},
     "output_type": "execute_result"
    }
   ],
   "source": [
    "\"\"\"\n",
    "So we can grab all of the links via the below\n",
    "\"\"\"\n",
    "fos_links = [i.attrs[\"href\"] for i in fos_link_tags]\n",
    "fos_links     "
   ]
  },
  {
   "cell_type": "code",
   "execution_count": 14,
   "metadata": {},
   "outputs": [
    {
     "data": {
      "text/plain": [
       "{'href': 'https://en.wikipedia.org/wiki/Alphabet_soup_(linguistics)',\n",
       " 'title': 'Alphabet soup (linguistics)'}"
      ]
     },
     "execution_count": 14,
     "metadata": {},
     "output_type": "execute_result"
    }
   ],
   "source": [
    "fos_link_tags[0].attrs"
   ]
  },
  {
   "cell_type": "code",
   "execution_count": 15,
   "metadata": {},
   "outputs": [
    {
     "data": {
      "text/plain": [
       "['Alphabet soup (linguistics)',\n",
       " 'Alphabet',\n",
       " 'wikt:from soup to nuts',\n",
       " None,\n",
       " 'Abiogenesis',\n",
       " 'Soup kitchen',\n",
       " 'Stone soup',\n",
       " 'Souperism',\n",
       " 'Great Famine (Ireland)',\n",
       " 'Tag soup',\n",
       " 'HTML']"
      ]
     },
     "execution_count": 15,
     "metadata": {},
     "output_type": "execute_result"
    }
   ],
   "source": [
    "\"\"\"\n",
    "And all titles via the below\n",
    "\"\"\"\n",
    "fos_titles = [i.attrs.get(\"title\") for i in fos_link_tags]\n",
    "fos_titles"
   ]
  },
  {
   "cell_type": "code",
   "execution_count": 17,
   "metadata": {},
   "outputs": [
    {
     "data": {
      "text/plain": [
       "['https://en.wikipedia.org/wiki/Alphabet_soup_(linguistics)',\n",
       " 'https://en.wikipedia.org/wiki/Alphabet',\n",
       " 'https://en.wiktionary.org/wiki/from_soup_to_nuts',\n",
       " 'https://en.wikipedia.org/wiki/Abiogenesis',\n",
       " 'https://en.wikipedia.org/wiki/Soup_kitchen',\n",
       " 'https://en.wikipedia.org/wiki/Stone_soup',\n",
       " 'https://en.wikipedia.org/wiki/Souperism',\n",
       " 'https://en.wikipedia.org/wiki/Great_Famine_(Ireland)',\n",
       " 'https://en.wikipedia.org/wiki/Tag_soup',\n",
       " 'https://en.wikipedia.org/wiki/HTML']"
      ]
     },
     "execution_count": 17,
     "metadata": {},
     "output_type": "execute_result"
    }
   ],
   "source": [
    "\"\"\"\n",
    "Further, we can clean out the internal citation link with string matching\n",
    "\"\"\"\n",
    "cleaned_links = [i.attrs[\"href\"] for i in fos_link_tags if 'https' in i.attrs[\"href\"]]\n",
    "cleaned_links"
   ]
  }
 ],
 "metadata": {
  "kernelspec": {
   "display_name": "Python 3 (ipykernel)",
   "language": "python",
   "name": "python3"
  },
  "language_info": {
   "codemirror_mode": {
    "name": "ipython",
    "version": 3
   },
   "file_extension": ".py",
   "mimetype": "text/x-python",
   "name": "python",
   "nbconvert_exporter": "python",
   "pygments_lexer": "ipython3",
   "version": "3.9.7"
  }
 },
 "nbformat": 4,
 "nbformat_minor": 2
}
